{
 "cells": [
  {
   "cell_type": "code",
   "execution_count": 1,
   "metadata": {},
   "outputs": [
    {
     "name": "stdout",
     "output_type": "stream",
     "text": [
      "[MyVimscriptKernel104607] Info:file /mnt/h/Jupyter/ipynb/MyVimscript/src/test.vim created successfully\n",
      "[MyVimscriptKernel104607] Info:The process :/mnt/h/Jupyter/ipynb/MyVimscript/src/test.vim\n",
      "[MyVimscriptKernel104607] Info:/mnt/h/Jupyter/ipynb/MyVimscript/tmpn_kbrxdp.sh\n",
      "[MyVimscriptKernel104607] Info:gnome-terminal -- /mnt/h/Jupyter/ipynb/MyVimscript/tmpn_kbrxdp.sh \n",
      "[MyVimscriptKernel104607] Info:The process end:16056\n"
     ]
    }
   ],
   "source": [
    "##%runinterm\n",
    "##%overwritefile\n",
    "##%file:src/test.vim\n",
    "##%log:1\n",
    "\":!ls -l\n",
    "\":scriptnames\n",
    ":echo $VIM\n",
    "\":echo $VIMRUNTIME\n",
    "\":set\n",
    ":smile\n",
    ":echom \"Hello again, world!\"\n",
    ":execute \"echom 'Hello, world!'\"\n",
    "\n",
    "function! Reversed(l)\n",
    "    let new_list = deepcopy(a:l)\n",
    "    call reverse(new_list)\n",
    "    return new_list\n",
    "endfunction\n",
    "\n",
    "function! Append(l, val)\n",
    "    let new_list = deepcopy(a:l)\n",
    "    call add(new_list, a:val)\n",
    "    return new_list\n",
    "endfunction\n",
    "\n",
    "function! Assoc(l, i, val)\n",
    "    let new_list = deepcopy(a:l)\n",
    "    let new_list[a:i] = a:val\n",
    "    return new_list\n",
    "endfunction\n",
    "\n",
    "function! Pop(l, i)\n",
    "    let new_list = deepcopy(a:l)\n",
    "    call remove(new_list, a:i)\n",
    "    return new_list\n",
    "endfunction\n",
    ":let Myfunc = function(\"Append\")\n",
    ":echo Myfunc([1, 2], 3)\n",
    "\n",
    "\n",
    ":q!"
   ]
  },
  {
   "cell_type": "code",
   "execution_count": null,
   "metadata": {},
   "outputs": [],
   "source": []
  }
 ],
 "metadata": {
  "interpreter": {
   "hash": "916dbcbb3f70747c44a77c7bcd40155683ae19c65e1c03b4aa3499c5328201f1"
  },
  "kernelspec": {
   "display_name": "MyVimscript",
   "language": "VimL",
   "name": "myvimscript"
  },
  "language_info": {
   "name": "VimL",
   "version": "3.9.7"
  },
  "orig_nbformat": 4
 },
 "nbformat": 4,
 "nbformat_minor": 2
}

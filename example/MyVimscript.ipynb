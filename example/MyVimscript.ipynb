{
 "cells": [
  {
   "cell_type": "code",
   "execution_count": 1,
   "metadata": {},
   "outputs": [],
   "source": [
    "##%runinterm\n",
    "##%overwritefile\n",
    "##%file:src/test.vim\n",
    "##%log:0\n",
    ":!ls -l ../\n",
    ":echo $VIMRUNTIME\n",
    ":q!"
   ]
  },
  {
   "cell_type": "code",
   "execution_count": null,
   "metadata": {},
   "outputs": [],
   "source": []
  }
 ],
 "metadata": {
  "interpreter": {
   "hash": "916dbcbb3f70747c44a77c7bcd40155683ae19c65e1c03b4aa3499c5328201f1"
  },
  "kernelspec": {
   "display_name": "MyVimscript",
   "language": "vimscript",
   "name": "myvimscript"
  },
  "language_info": {
   "name": "vimscript",
   "version": "3.9.7"
  },
  "orig_nbformat": 4
 },
 "nbformat": 4,
 "nbformat_minor": 2
}
